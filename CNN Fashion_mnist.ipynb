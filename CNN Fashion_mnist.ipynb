{
 "cells": [
  {
   "cell_type": "code",
   "execution_count": 1,
   "id": "89c203ae",
   "metadata": {},
   "outputs": [],
   "source": [
    "import pandas as pd\n",
    "import numpy as np\n",
    "%matplotlib inline\n",
    "import matplotlib as mpl\n",
    "import matplotlib.pyplot as plt"
   ]
  },
  {
   "cell_type": "code",
   "execution_count": 2,
   "id": "0a092e1f",
   "metadata": {},
   "outputs": [],
   "source": [
    "import tensorflow as tf\n",
    "from tensorflow import keras"
   ]
  },
  {
   "cell_type": "code",
   "execution_count": 3,
   "id": "1b58867d",
   "metadata": {},
   "outputs": [],
   "source": [
    "fashion_mnist = keras.datasets.fashion_mnist\n",
    "(x_train_full,y_train_full),(x_test,y_test) = fashion_mnist.load_data()"
   ]
  },
  {
   "cell_type": "code",
   "execution_count": 4,
   "id": "22aaad2e",
   "metadata": {},
   "outputs": [],
   "source": [
    "class_names = [\"T-shirt/top\",\"Trouser\",\"Pullover\",\"Dress\",\"Coat\",\"Sandal\",\"Shirt\",\"Sneaker\",\"Bag\",\"Ankle boot\"]"
   ]
  },
  {
   "cell_type": "code",
   "execution_count": 5,
   "id": "f1ddfae1",
   "metadata": {},
   "outputs": [],
   "source": [
    "#for cnn we need 3d ,so we convert the images into 3d\n",
    "#1 stands for channel\n",
    "\n",
    "x_train_full = x_train_full.reshape((60000,28,28,1))\n",
    "x_test = x_test.reshape((10000,28,28,1))"
   ]
  },
  {
   "cell_type": "code",
   "execution_count": 6,
   "id": "1875f162",
   "metadata": {},
   "outputs": [],
   "source": [
    "#Data normalization\n",
    "\n",
    "x_train_n = x_train_full / 255.0\n",
    "x_test_n = x_test / 255.0"
   ]
  },
  {
   "cell_type": "code",
   "execution_count": 7,
   "id": "7c0630cd",
   "metadata": {},
   "outputs": [],
   "source": [
    "x_valid , x_train = x_train_n[:5000] , x_train_n[5000:]\n",
    "y_valid , y_train = y_train_full[:5000] , y_train_full[5000:]\n",
    "x_test = x_test_n"
   ]
  },
  {
   "cell_type": "code",
   "execution_count": 8,
   "id": "2457c611",
   "metadata": {},
   "outputs": [],
   "source": [
    "np.random.seed(42)\n",
    "tf.random.set_seed(42)"
   ]
  },
  {
   "cell_type": "code",
   "execution_count": 9,
   "id": "8280b2da",
   "metadata": {},
   "outputs": [],
   "source": [
    "model = keras.models.Sequential()\n",
    "model.add(keras.layers.Conv2D(filters=32, kernel_size=(3,3),strides=1 , padding=\"valid\",activation = 'relu', input_shape =(28,28,1)))\n",
    "model.add(keras.layers.MaxPooling2D((2,2)))\n",
    "\n",
    "model.add(keras.layers.Flatten())\n",
    "model.add(keras.layers.Dense(300, activation = 'relu'))\n",
    "model.add(keras.layers.Dense(100, activation = 'relu'))\n",
    "model.add(keras.layers.Dense(10, activation = 'softmax'))"
   ]
  },
  {
   "cell_type": "code",
   "execution_count": 10,
   "id": "e39cdab4",
   "metadata": {},
   "outputs": [
    {
     "name": "stdout",
     "output_type": "stream",
     "text": [
      "Model: \"sequential\"\n",
      "_________________________________________________________________\n",
      "Layer (type)                 Output Shape              Param #   \n",
      "=================================================================\n",
      "conv2d (Conv2D)              (None, 26, 26, 32)        320       \n",
      "_________________________________________________________________\n",
      "max_pooling2d (MaxPooling2D) (None, 13, 13, 32)        0         \n",
      "_________________________________________________________________\n",
      "flatten (Flatten)            (None, 5408)              0         \n",
      "_________________________________________________________________\n",
      "dense (Dense)                (None, 300)               1622700   \n",
      "_________________________________________________________________\n",
      "dense_1 (Dense)              (None, 100)               30100     \n",
      "_________________________________________________________________\n",
      "dense_2 (Dense)              (None, 10)                1010      \n",
      "=================================================================\n",
      "Total params: 1,654,130\n",
      "Trainable params: 1,654,130\n",
      "Non-trainable params: 0\n",
      "_________________________________________________________________\n"
     ]
    }
   ],
   "source": [
    "model.summary()"
   ]
  },
  {
   "cell_type": "code",
   "execution_count": 11,
   "id": "f0552ca4",
   "metadata": {},
   "outputs": [],
   "source": [
    "model.compile(loss=\"sparse_categorical_crossentropy\",\n",
    "             optimizer = \"sgd\",\n",
    "             metrics=[\"accuracy\"])"
   ]
  },
  {
   "cell_type": "code",
   "execution_count": 12,
   "id": "08a903c1",
   "metadata": {},
   "outputs": [
    {
     "name": "stdout",
     "output_type": "stream",
     "text": [
      "Epoch 1/30\n",
      "860/860 [==============================] - 32s 37ms/step - loss: 0.8775 - accuracy: 0.6987 - val_loss: 0.7581 - val_accuracy: 0.7340\n",
      "Epoch 2/30\n",
      "860/860 [==============================] - 32s 37ms/step - loss: 0.5389 - accuracy: 0.8049 - val_loss: 0.4946 - val_accuracy: 0.8162\n",
      "Epoch 3/30\n",
      "860/860 [==============================] - 33s 38ms/step - loss: 0.4812 - accuracy: 0.8261 - val_loss: 0.9108 - val_accuracy: 0.7126\n",
      "Epoch 4/30\n",
      "860/860 [==============================] - 30s 35ms/step - loss: 0.4438 - accuracy: 0.8415 - val_loss: 0.4131 - val_accuracy: 0.8568\n",
      "Epoch 5/30\n",
      "860/860 [==============================] - 29s 34ms/step - loss: 0.4197 - accuracy: 0.8499 - val_loss: 0.4364 - val_accuracy: 0.8480\n",
      "Epoch 6/30\n",
      "860/860 [==============================] - 30s 35ms/step - loss: 0.3957 - accuracy: 0.8581 - val_loss: 0.3770 - val_accuracy: 0.8716\n",
      "Epoch 7/30\n",
      "860/860 [==============================] - 30s 35ms/step - loss: 0.3781 - accuracy: 0.8662 - val_loss: 0.4068 - val_accuracy: 0.8552\n",
      "Epoch 8/30\n",
      "860/860 [==============================] - 28s 32ms/step - loss: 0.3631 - accuracy: 0.8695 - val_loss: 0.5013 - val_accuracy: 0.8152\n",
      "Epoch 9/30\n",
      "860/860 [==============================] - 28s 32ms/step - loss: 0.3489 - accuracy: 0.8738 - val_loss: 0.3719 - val_accuracy: 0.8662\n",
      "Epoch 10/30\n",
      "860/860 [==============================] - 28s 32ms/step - loss: 0.3369 - accuracy: 0.8785 - val_loss: 0.3821 - val_accuracy: 0.8604\n",
      "Epoch 11/30\n",
      "860/860 [==============================] - 28s 32ms/step - loss: 0.3246 - accuracy: 0.8820 - val_loss: 0.3415 - val_accuracy: 0.8778\n",
      "Epoch 12/30\n",
      "860/860 [==============================] - 28s 32ms/step - loss: 0.3133 - accuracy: 0.8863 - val_loss: 0.3224 - val_accuracy: 0.8876\n",
      "Epoch 13/30\n",
      "860/860 [==============================] - 27s 32ms/step - loss: 0.3061 - accuracy: 0.8890 - val_loss: 0.3319 - val_accuracy: 0.8860\n",
      "Epoch 14/30\n",
      "860/860 [==============================] - 27s 32ms/step - loss: 0.2974 - accuracy: 0.8914 - val_loss: 0.3856 - val_accuracy: 0.8584\n",
      "Epoch 15/30\n",
      "860/860 [==============================] - 28s 33ms/step - loss: 0.2895 - accuracy: 0.8954 - val_loss: 0.3841 - val_accuracy: 0.8598\n",
      "Epoch 16/30\n",
      "860/860 [==============================] - 29s 34ms/step - loss: 0.2831 - accuracy: 0.8974 - val_loss: 0.2953 - val_accuracy: 0.8950\n",
      "Epoch 17/30\n",
      "860/860 [==============================] - 29s 34ms/step - loss: 0.2755 - accuracy: 0.8999 - val_loss: 0.4066 - val_accuracy: 0.8596\n",
      "Epoch 18/30\n",
      "860/860 [==============================] - 29s 34ms/step - loss: 0.2701 - accuracy: 0.9011 - val_loss: 0.3495 - val_accuracy: 0.8748\n",
      "Epoch 19/30\n",
      "860/860 [==============================] - 29s 34ms/step - loss: 0.2639 - accuracy: 0.9038 - val_loss: 0.3074 - val_accuracy: 0.8904\n",
      "Epoch 20/30\n",
      "860/860 [==============================] - 29s 34ms/step - loss: 0.2583 - accuracy: 0.9057 - val_loss: 0.3250 - val_accuracy: 0.8842\n",
      "Epoch 21/30\n",
      "860/860 [==============================] - 28s 32ms/step - loss: 0.2526 - accuracy: 0.9084 - val_loss: 0.2830 - val_accuracy: 0.9002\n",
      "Epoch 22/30\n",
      "860/860 [==============================] - 27s 32ms/step - loss: 0.2472 - accuracy: 0.9094 - val_loss: 0.2861 - val_accuracy: 0.8970\n",
      "Epoch 23/30\n",
      "860/860 [==============================] - 29s 34ms/step - loss: 0.2418 - accuracy: 0.9109 - val_loss: 0.2783 - val_accuracy: 0.9030\n",
      "Epoch 24/30\n",
      "860/860 [==============================] - 22s 26ms/step - loss: 0.2367 - accuracy: 0.9129 - val_loss: 0.2997 - val_accuracy: 0.8908\n",
      "Epoch 25/30\n",
      "860/860 [==============================] - 20s 23ms/step - loss: 0.2323 - accuracy: 0.9157 - val_loss: 0.2895 - val_accuracy: 0.8966\n",
      "Epoch 26/30\n",
      "860/860 [==============================] - 21s 24ms/step - loss: 0.2285 - accuracy: 0.9157 - val_loss: 0.2775 - val_accuracy: 0.9030\n",
      "Epoch 27/30\n",
      "860/860 [==============================] - 19s 22ms/step - loss: 0.2244 - accuracy: 0.9183 - val_loss: 0.2703 - val_accuracy: 0.9014\n",
      "Epoch 28/30\n",
      "860/860 [==============================] - 19s 22ms/step - loss: 0.2197 - accuracy: 0.9191 - val_loss: 0.3066 - val_accuracy: 0.8910\n",
      "Epoch 29/30\n",
      "860/860 [==============================] - 20s 23ms/step - loss: 0.2145 - accuracy: 0.9214 - val_loss: 0.2715 - val_accuracy: 0.9034\n",
      "Epoch 30/30\n",
      "860/860 [==============================] - 20s 24ms/step - loss: 0.2115 - accuracy: 0.9218 - val_loss: 0.2706 - val_accuracy: 0.9054\n"
     ]
    }
   ],
   "source": [
    "model_history = model.fit(x_train, y_train ,epochs=30,batch_size = 64, validation_data=(x_valid , y_valid))"
   ]
  },
  {
   "cell_type": "code",
   "execution_count": 13,
   "id": "50335a74",
   "metadata": {},
   "outputs": [
    {
     "data": {
      "image/png": "[encoded data removed]",
      "text/plain": [
       "<Figure size 576x360 with 1 Axes>"
      ]
     },
     "metadata": {
      "needs_background": "light"
     },
     "output_type": "display_data"
    }
   ],
   "source": [
    "import pandas as pd\n",
    "\n",
    "pd.DataFrame(model_history.history).plot(figsize=(8,5))\n",
    "plt.grid(True)\n",
    "plt.gca().set_ylim(0,1)\n",
    "plt.show()"
   ]
  },
  {
   "cell_type": "code",
   "execution_count": 14,
   "id": "07472023",
   "metadata": {},
   "outputs": [
    {
     "name": "stdout",
     "output_type": "stream",
     "text": [
      "313/313 [==============================] - 2s 5ms/step - loss: 0.2800 - accuracy: 0.8997\n"
     ]
    }
   ],
   "source": [
    "ev = model.evaluate(x_test_n,y_test)"
   ]
  },
  {
   "cell_type": "code",
   "execution_count": 15,
   "id": "ab89b115",
   "metadata": {},
   "outputs": [],
   "source": [
    "x_new = x_test[:3]"
   ]
  },
  {
   "cell_type": "code",
   "execution_count": 16,
   "id": "7ecc73b6",
   "metadata": {},
   "outputs": [
    {
     "name": "stdout",
     "output_type": "stream",
     "text": [
      "WARNING:tensorflow:From <ipython-input-16-2a45323cfad0>:1: Sequential.predict_classes (from tensorflow.python.keras.engine.sequential) is deprecated and will be removed after 2021-01-01.\n",
      "Instructions for updating:\n",
      "Please use instead:* `np.argmax(model.predict(x), axis=-1)`,   if your model does multi-class classification   (e.g. if it uses a `softmax` last-layer activation).* `(model.predict(x) > 0.5).astype(\"int32\")`,   if your model does binary classification   (e.g. if it uses a `sigmoid` last-layer activation).\n"
     ]
    },
    {
     "data": {
      "text/plain": [
       "array([9, 2, 1], dtype=int64)"
      ]
     },
     "execution_count": 16,
     "metadata": {},
     "output_type": "execute_result"
    }
   ],
   "source": [
    "y_pred = model.predict_classes(x_new)\n",
    "y_pred"
   ]
  },
  {
   "cell_type": "code",
   "execution_count": 17,
   "id": "ca089420",
   "metadata": {},
   "outputs": [
    {
     "data": {
      "text/plain": [
       "array([9, 2, 1], dtype=uint8)"
      ]
     },
     "execution_count": 17,
     "metadata": {},
     "output_type": "execute_result"
    }
   ],
   "source": [
    "y_test[:3]"
   ]
  },
  {
   "cell_type": "code",
   "execution_count": 18,
   "id": "6dd7b33a",
   "metadata": {},
   "outputs": [
    {
     "name": "stdout",
     "output_type": "stream",
     "text": [
      "AxesImage(54,36;334.8x217.44)\n"
     ]
    },
    {
     "data": {
      "image/png": "[encoded data removed]",
      "text/plain": [
       "<Figure size 432x288 with 1 Axes>"
      ]
     },
     "metadata": {
      "needs_background": "light"
     },
     "output_type": "display_data"
    }
   ],
   "source": [
    "print(plt.imshow(x_test[0].reshape((28,28))))"
   ]
  },
  {
   "cell_type": "code",
   "execution_count": 19,
   "id": "e58bc4cd",
   "metadata": {},
   "outputs": [],
   "source": [
    "#without pooling\n",
    "\n",
    "mod = keras.models.Sequential()\n",
    "mod.add(keras.layers.Conv2D(filters=32, kernel_size=(3,3),strides=1 , padding=\"valid\",activation = 'relu', input_shape =(28,28,1)))\n",
    "\n",
    "\n",
    "mod.add(keras.layers.Flatten())\n",
    "mod.add(keras.layers.Dense(300, activation = 'relu'))\n",
    "mod.add(keras.layers.Dense(100, activation = 'relu'))\n",
    "mod.add(keras.layers.Dense(10, activation = 'softmax'))"
   ]
  },
  {
   "cell_type": "code",
   "execution_count": 21,
   "id": "a64d3e30",
   "metadata": {},
   "outputs": [
    {
     "name": "stdout",
     "output_type": "stream",
     "text": [
      "Model: \"sequential_1\"\n",
      "_________________________________________________________________\n",
      "Layer (type)                 Output Shape              Param #   \n",
      "=================================================================\n",
      "conv2d_1 (Conv2D)            (None, 26, 26, 32)        320       \n",
      "_________________________________________________________________\n",
      "flatten_1 (Flatten)          (None, 21632)             0         \n",
      "_________________________________________________________________\n",
      "dense_3 (Dense)              (None, 300)               6489900   \n",
      "_________________________________________________________________\n",
      "dense_4 (Dense)              (None, 100)               30100     \n",
      "_________________________________________________________________\n",
      "dense_5 (Dense)              (None, 10)                1010      \n",
      "=================================================================\n",
      "Total params: 6,521,330\n",
      "Trainable params: 6,521,330\n",
      "Non-trainable params: 0\n",
      "_________________________________________________________________\n"
     ]
    }
   ],
   "source": [
    "mod.summary()"
   ]
  },
  {
   "cell_type": "code",
   "execution_count": 20,
   "id": "81c479b0",
   "metadata": {},
   "outputs": [],
   "source": [
    "mod.compile(loss=\"sparse_categorical_crossentropy\",\n",
    "             optimizer = \"sgd\",\n",
    "             metrics=[\"accuracy\"])"
   ]
  },
  {
   "cell_type": "code",
   "execution_count": 22,
   "id": "08a1b535",
   "metadata": {
    "scrolled": true
   },
   "outputs": [
    {
     "name": "stdout",
     "output_type": "stream",
     "text": [
      "Epoch 1/50\n",
      "860/860 [==============================] - 38s 45ms/step - loss: 0.7184 - accuracy: 0.7504 - val_loss: 0.7073 - val_accuracy: 0.7392\n",
      "Epoch 2/50\n",
      "860/860 [==============================] - 35s 41ms/step - loss: 0.4898 - accuracy: 0.8225 - val_loss: 0.4675 - val_accuracy: 0.8216\n",
      "Epoch 3/50\n",
      "860/860 [==============================] - 35s 41ms/step - loss: 0.4383 - accuracy: 0.8409 - val_loss: 0.8315 - val_accuracy: 0.7164\n",
      "Epoch 4/50\n",
      "860/860 [==============================] - 36s 41ms/step - loss: 0.4067 - accuracy: 0.8521 - val_loss: 0.3935 - val_accuracy: 0.8574\n",
      "Epoch 5/50\n",
      "860/860 [==============================] - 35s 41ms/step - loss: 0.3864 - accuracy: 0.8608 - val_loss: 0.3878 - val_accuracy: 0.8580\n",
      "Epoch 6/50\n",
      "860/860 [==============================] - 35s 41ms/step - loss: 0.3661 - accuracy: 0.8663 - val_loss: 0.3574 - val_accuracy: 0.8718\n",
      "Epoch 7/50\n",
      "860/860 [==============================] - 36s 42ms/step - loss: 0.3527 - accuracy: 0.8718 - val_loss: 0.3797 - val_accuracy: 0.8602\n",
      "Epoch 8/50\n",
      "860/860 [==============================] - 37s 43ms/step - loss: 0.3404 - accuracy: 0.8758 - val_loss: 0.4321 - val_accuracy: 0.8322\n",
      "Epoch 9/50\n",
      "860/860 [==============================] - 37s 43ms/step - loss: 0.3304 - accuracy: 0.8787 - val_loss: 0.3501 - val_accuracy: 0.8722\n",
      "Epoch 10/50\n",
      "860/860 [==============================] - 39s 45ms/step - loss: 0.3219 - accuracy: 0.8828 - val_loss: 0.3990 - val_accuracy: 0.8488\n",
      "Epoch 11/50\n",
      "860/860 [==============================] - 39s 45ms/step - loss: 0.3117 - accuracy: 0.8858 - val_loss: 0.3392 - val_accuracy: 0.8788\n",
      "Epoch 12/50\n",
      "860/860 [==============================] - 39s 45ms/step - loss: 0.3031 - accuracy: 0.8886 - val_loss: 0.3267 - val_accuracy: 0.8840\n",
      "Epoch 13/50\n",
      "860/860 [==============================] - 39s 45ms/step - loss: 0.2963 - accuracy: 0.8911 - val_loss: 0.3484 - val_accuracy: 0.8734\n",
      "Epoch 14/50\n",
      "860/860 [==============================] - 39s 45ms/step - loss: 0.2895 - accuracy: 0.8935 - val_loss: 0.3509 - val_accuracy: 0.8650\n",
      "Epoch 15/50\n",
      "860/860 [==============================] - 39s 46ms/step - loss: 0.2822 - accuracy: 0.8964 - val_loss: 0.3297 - val_accuracy: 0.8778\n",
      "Epoch 16/50\n",
      "860/860 [==============================] - 40s 46ms/step - loss: 0.2769 - accuracy: 0.8990 - val_loss: 0.2983 - val_accuracy: 0.8874\n",
      "Epoch 17/50\n",
      "860/860 [==============================] - 38s 44ms/step - loss: 0.2702 - accuracy: 0.9011 - val_loss: 0.3889 - val_accuracy: 0.8626\n",
      "Epoch 18/50\n",
      "860/860 [==============================] - 37s 43ms/step - loss: 0.2643 - accuracy: 0.9025 - val_loss: 0.3346 - val_accuracy: 0.8820\n",
      "Epoch 19/50\n",
      "860/860 [==============================] - 37s 43ms/step - loss: 0.2588 - accuracy: 0.9052 - val_loss: 0.3413 - val_accuracy: 0.8772\n",
      "Epoch 20/50\n",
      "860/860 [==============================] - 43s 50ms/step - loss: 0.2534 - accuracy: 0.9072 - val_loss: 0.3079 - val_accuracy: 0.8858\n",
      "Epoch 21/50\n",
      "860/860 [==============================] - 47s 55ms/step - loss: 0.2482 - accuracy: 0.9093 - val_loss: 0.2817 - val_accuracy: 0.8986\n",
      "Epoch 22/50\n",
      "860/860 [==============================] - 43s 50ms/step - loss: 0.2420 - accuracy: 0.9106 - val_loss: 0.2838 - val_accuracy: 0.8940\n",
      "Epoch 23/50\n",
      "860/860 [==============================] - 44s 51ms/step - loss: 0.2370 - accuracy: 0.9130 - val_loss: 0.2772 - val_accuracy: 0.8984\n",
      "Epoch 24/50\n",
      "860/860 [==============================] - 44s 51ms/step - loss: 0.2311 - accuracy: 0.9147 - val_loss: 0.3229 - val_accuracy: 0.8794\n",
      "Epoch 25/50\n",
      "860/860 [==============================] - 48s 55ms/step - loss: 0.2265 - accuracy: 0.9164 - val_loss: 0.2862 - val_accuracy: 0.8954\n",
      "Epoch 26/50\n",
      "860/860 [==============================] - 45s 53ms/step - loss: 0.2220 - accuracy: 0.9186 - val_loss: 0.2807 - val_accuracy: 0.8990\n",
      "Epoch 27/50\n",
      "860/860 [==============================] - 44s 51ms/step - loss: 0.2176 - accuracy: 0.9216 - val_loss: 0.2741 - val_accuracy: 0.9012\n",
      "Epoch 28/50\n",
      "860/860 [==============================] - 49s 57ms/step - loss: 0.2131 - accuracy: 0.9223 - val_loss: 0.2888 - val_accuracy: 0.8950\n",
      "Epoch 29/50\n",
      "860/860 [==============================] - 51s 59ms/step - loss: 0.2073 - accuracy: 0.9249 - val_loss: 0.2854 - val_accuracy: 0.8968\n",
      "Epoch 30/50\n",
      "860/860 [==============================] - 49s 57ms/step - loss: 0.2031 - accuracy: 0.9257 - val_loss: 0.2797 - val_accuracy: 0.8978\n",
      "Epoch 31/50\n",
      "860/860 [==============================] - 49s 57ms/step - loss: 0.1983 - accuracy: 0.9272 - val_loss: 0.2642 - val_accuracy: 0.9014\n",
      "Epoch 32/50\n",
      "860/860 [==============================] - 45s 52ms/step - loss: 0.1935 - accuracy: 0.9295 - val_loss: 0.2885 - val_accuracy: 0.8936\n",
      "Epoch 33/50\n",
      "860/860 [==============================] - 45s 53ms/step - loss: 0.1896 - accuracy: 0.9311 - val_loss: 0.3008 - val_accuracy: 0.8900\n",
      "Epoch 34/50\n",
      "860/860 [==============================] - 45s 53ms/step - loss: 0.1844 - accuracy: 0.9325 - val_loss: 0.3299 - val_accuracy: 0.8824\n",
      "Epoch 35/50\n",
      "860/860 [==============================] - 45s 53ms/step - loss: 0.1790 - accuracy: 0.9344 - val_loss: 0.2704 - val_accuracy: 0.8988\n",
      "Epoch 36/50\n",
      "860/860 [==============================] - 47s 55ms/step - loss: 0.1759 - accuracy: 0.9353 - val_loss: 0.2883 - val_accuracy: 0.8960\n",
      "Epoch 37/50\n",
      "860/860 [==============================] - 48s 56ms/step - loss: 0.1710 - accuracy: 0.9374 - val_loss: 0.2748 - val_accuracy: 0.8992\n",
      "Epoch 38/50\n",
      "860/860 [==============================] - 48s 56ms/step - loss: 0.1664 - accuracy: 0.9395 - val_loss: 0.2669 - val_accuracy: 0.9058\n",
      "Epoch 39/50\n",
      "860/860 [==============================] - 50s 58ms/step - loss: 0.1630 - accuracy: 0.9410 - val_loss: 0.2682 - val_accuracy: 0.9050\n",
      "Epoch 40/50\n",
      "860/860 [==============================] - 45s 52ms/step - loss: 0.1585 - accuracy: 0.9415 - val_loss: 0.2907 - val_accuracy: 0.8978\n",
      "Epoch 41/50\n",
      "860/860 [==============================] - 43s 50ms/step - loss: 0.1541 - accuracy: 0.9440 - val_loss: 0.2768 - val_accuracy: 0.9048\n",
      "Epoch 42/50\n",
      "860/860 [==============================] - 46s 54ms/step - loss: 0.1500 - accuracy: 0.9462 - val_loss: 0.2718 - val_accuracy: 0.9066\n",
      "Epoch 43/50\n",
      "860/860 [==============================] - 47s 55ms/step - loss: 0.1457 - accuracy: 0.9472 - val_loss: 0.3486 - val_accuracy: 0.8754\n",
      "Epoch 44/50\n",
      "860/860 [==============================] - 44s 52ms/step - loss: 0.1414 - accuracy: 0.9497 - val_loss: 0.2897 - val_accuracy: 0.8956\n",
      "Epoch 45/50\n",
      "860/860 [==============================] - 44s 51ms/step - loss: 0.1372 - accuracy: 0.9513 - val_loss: 0.2800 - val_accuracy: 0.9012\n",
      "Epoch 46/50\n",
      "860/860 [==============================] - 45s 52ms/step - loss: 0.1339 - accuracy: 0.9528 - val_loss: 0.2779 - val_accuracy: 0.9040\n",
      "Epoch 47/50\n",
      "860/860 [==============================] - 47s 55ms/step - loss: 0.1289 - accuracy: 0.9535 - val_loss: 0.3055 - val_accuracy: 0.8972\n",
      "Epoch 48/50\n",
      "860/860 [==============================] - 49s 57ms/step - loss: 0.1254 - accuracy: 0.9553 - val_loss: 0.3297 - val_accuracy: 0.8896\n",
      "Epoch 49/50\n",
      "860/860 [==============================] - 47s 55ms/step - loss: 0.1211 - accuracy: 0.9569 - val_loss: 0.2764 - val_accuracy: 0.9044\n",
      "Epoch 50/50\n",
      "860/860 [==============================] - 46s 53ms/step - loss: 0.1183 - accuracy: 0.9578 - val_loss: 0.2781 - val_accuracy: 0.9076\n"
     ]
    }
   ],
   "source": [
    "mod_history = mod.fit(x_train, y_train ,epochs=50,batch_size = 64, validation_data=(x_valid , y_valid))"
   ]
  },
  {
   "cell_type": "code",
   "execution_count": 23,
   "id": "124a7fdd",
   "metadata": {},
   "outputs": [
    {
     "data": {
      "image/png": "[encoded data removed]",
      "text/plain": [
       "<Figure size 576x360 with 1 Axes>"
      ]
     },
     "metadata": {
      "needs_background": "light"
     },
     "output_type": "display_data"
    }
   ],
   "source": [
    "import pandas as pd\n",
    "\n",
    "pd.DataFrame(mod_history.history).plot(figsize=(8,5))\n",
    "plt.grid(True)\n",
    "plt.gca().set_ylim(0,1)\n",
    "plt.show()"
   ]
  },
  {
   "cell_type": "code",
   "execution_count": null,
   "id": "80d9f97f",
   "metadata": {},
   "outputs": [],
   "source": []
  }
 ],
 "metadata": {
  "kernelspec": {
   "display_name": "Python 3",
   "language": "python",
   "name": "python3"
  },
  "language_info": {
   "codemirror_mode": {
    "name": "ipython",
    "version": 3
   },
   "file_extension": ".py",
   "mimetype": "text/x-python",
   "name": "python",
   "nbconvert_exporter": "python",
   "pygments_lexer": "ipython3",
   "version": "3.8.8"
  }
 },
 "nbformat": 4,
 "nbformat_minor": 5
}
