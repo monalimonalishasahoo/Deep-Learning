{
 "cells": [
  {
   "cell_type": "code",
   "execution_count": 1,
   "id": "0117b288",
   "metadata": {},
   "outputs": [],
   "source": [
    "import numpy as np\n",
    "import pandas as pd\n",
    "%matplotlib inline\n",
    "import matplotlib as mpl\n",
    "import matplotlib.pyplot as plt"
   ]
  },
  {
   "cell_type": "code",
   "execution_count": 2,
   "id": "c8a78351",
   "metadata": {},
   "outputs": [],
   "source": [
    "import tensorflow as tf\n",
    "from tensorflow import keras"
   ]
  },
  {
   "cell_type": "code",
   "execution_count": 3,
   "id": "c3278ebc",
   "metadata": {},
   "outputs": [],
   "source": [
    "from sklearn.datasets import fetch_california_housing\n",
    "housing = fetch_california_housing()"
   ]
  },
  {
   "cell_type": "code",
   "execution_count": 4,
   "id": "fe02b64b",
   "metadata": {},
   "outputs": [
    {
     "name": "stdout",
     "output_type": "stream",
     "text": [
      "['MedInc', 'HouseAge', 'AveRooms', 'AveBedrms', 'Population', 'AveOccup', 'Latitude', 'Longitude']\n"
     ]
    }
   ],
   "source": [
    "print(housing.feature_names)"
   ]
  },
  {
   "cell_type": "code",
   "execution_count": 5,
   "id": "b6e460a4",
   "metadata": {},
   "outputs": [],
   "source": [
    "from sklearn.model_selection import train_test_split\n",
    "x_train_full, x_test, y_train_full, y_test = train_test_split(housing.data, housing.target,random_state=42)\n",
    "x_train, x_valid, y_train, y_valid = train_test_split(x_train_full, y_train_full, random_state = 42)"
   ]
  },
  {
   "cell_type": "code",
   "execution_count": 6,
   "id": "77c30712",
   "metadata": {},
   "outputs": [],
   "source": [
    "from sklearn.preprocessing import StandardScaler\n",
    "scalar = StandardScaler()\n",
    "x_train = scalar.fit_transform(x_train)\n",
    "x_valid = scalar.transform(x_valid)\n",
    "x_test = scalar.transform(x_test)"
   ]
  },
  {
   "cell_type": "code",
   "execution_count": 7,
   "id": "54d7a19e",
   "metadata": {},
   "outputs": [],
   "source": [
    "np.random.seed(42)\n",
    "tf.random.set_seed(42)"
   ]
  },
  {
   "cell_type": "code",
   "execution_count": 10,
   "id": "2953cd58",
   "metadata": {},
   "outputs": [],
   "source": [
    "input_ = keras.layers.Input(shape = x_train.shape[1:])\n",
    "hidden1 = keras.layers.Dense(30,activation=\"relu\")(input_)\n",
    "hidden2 = keras.layers.Dense(30,activation=\"relu\")(hidden1)\n",
    "concat = keras.layers.concatenate([input_ , hidden2])\n",
    "output = keras.layers.Dense(1)(concat)\n",
    "model = keras.models.Model(inputs=[input_], outputs=[output])"
   ]
  },
  {
   "cell_type": "code",
   "execution_count": 11,
   "id": "49f27cb6",
   "metadata": {},
   "outputs": [
    {
     "name": "stdout",
     "output_type": "stream",
     "text": [
      "Model: \"functional_1\"\n",
      "__________________________________________________________________________________________________\n",
      "Layer (type)                    Output Shape         Param #     Connected to                     \n",
      "==================================================================================================\n",
      "input_3 (InputLayer)            [(None, 8)]          0                                            \n",
      "__________________________________________________________________________________________________\n",
      "dense_3 (Dense)                 (None, 30)           270         input_3[0][0]                    \n",
      "__________________________________________________________________________________________________\n",
      "dense_4 (Dense)                 (None, 30)           930         dense_3[0][0]                    \n",
      "__________________________________________________________________________________________________\n",
      "concatenate_1 (Concatenate)     (None, 38)           0           input_3[0][0]                    \n",
      "                                                                 dense_4[0][0]                    \n",
      "__________________________________________________________________________________________________\n",
      "dense_5 (Dense)                 (None, 1)            39          concatenate_1[0][0]              \n",
      "==================================================================================================\n",
      "Total params: 1,239\n",
      "Trainable params: 1,239\n",
      "Non-trainable params: 0\n",
      "__________________________________________________________________________________________________\n"
     ]
    }
   ],
   "source": [
    "model.summary()"
   ]
  },
  {
   "cell_type": "code",
   "execution_count": 12,
   "id": "57ed0c99",
   "metadata": {},
   "outputs": [],
   "source": [
    "model.compile(loss=\"mean_squared_error\",\n",
    "             optimizer = keras.optimizers.SGD(lr=1e-3),\n",
    "             metrics=[\"mae\"])"
   ]
  },
  {
   "cell_type": "code",
   "execution_count": 16,
   "id": "ad63bb0b",
   "metadata": {},
   "outputs": [
    {
     "name": "stdout",
     "output_type": "stream",
     "text": [
      "Epoch 1/40\n",
      "  1/363 [..............................] - ETA: 0s - loss: 0.5188 - mae: 0.5042WARNING:tensorflow:Callbacks method `on_train_batch_begin` is slow compared to the batch time (batch time: 0.0006s vs `on_train_batch_begin` time: 0.0010s). Check your callbacks.\n",
      "363/363 [==============================] - 1s 2ms/step - loss: 0.3709 - mae: 0.4335 - val_loss: 0.3834 - val_mae: 0.4255\n",
      "Epoch 2/40\n",
      "363/363 [==============================] - 1s 2ms/step - loss: 0.3701 - mae: 0.4326 - val_loss: 0.4377 - val_mae: 0.4316\n",
      "Epoch 3/40\n",
      "363/363 [==============================] - 1s 2ms/step - loss: 0.3692 - mae: 0.4328 - val_loss: 0.4013 - val_mae: 0.4263\n",
      "Epoch 4/40\n",
      "363/363 [==============================] - ETA: 0s - loss: 0.3700 - mae: 0.432 - 1s 2ms/step - loss: 0.3680 - mae: 0.4315 - val_loss: 0.3788 - val_mae: 0.4270\n",
      "Epoch 5/40\n",
      "363/363 [==============================] - 1s 1ms/step - loss: 0.3676 - mae: 0.4310 - val_loss: 0.3719 - val_mae: 0.4246\n",
      "Epoch 6/40\n",
      "363/363 [==============================] - 1s 2ms/step - loss: 0.3663 - mae: 0.4304 - val_loss: 0.3966 - val_mae: 0.4245\n",
      "Epoch 7/40\n",
      "363/363 [==============================] - 1s 2ms/step - loss: 0.3659 - mae: 0.4297 - val_loss: 0.3727 - val_mae: 0.4236\n",
      "Epoch 8/40\n",
      "363/363 [==============================] - 1s 2ms/step - loss: 0.3649 - mae: 0.4294 - val_loss: 0.3572 - val_mae: 0.4203\n",
      "Epoch 9/40\n",
      "363/363 [==============================] - 0s 1ms/step - loss: 0.3640 - mae: 0.4287 - val_loss: 0.3890 - val_mae: 0.4222\n",
      "Epoch 10/40\n",
      "363/363 [==============================] - 1s 2ms/step - loss: 0.3633 - mae: 0.4281 - val_loss: 0.3938 - val_mae: 0.4218\n",
      "Epoch 11/40\n",
      "363/363 [==============================] - 1s 1ms/step - loss: 0.3628 - mae: 0.4274 - val_loss: 0.3469 - val_mae: 0.4184\n",
      "Epoch 12/40\n",
      "363/363 [==============================] - 1s 1ms/step - loss: 0.3618 - mae: 0.4268 - val_loss: 0.4197 - val_mae: 0.4233\n",
      "Epoch 13/40\n",
      "363/363 [==============================] - 0s 1ms/step - loss: 0.3613 - mae: 0.4264 - val_loss: 0.3758 - val_mae: 0.4222\n",
      "Epoch 14/40\n",
      "363/363 [==============================] - 1s 1ms/step - loss: 0.3604 - mae: 0.4255 - val_loss: 0.3526 - val_mae: 0.4193\n",
      "Epoch 15/40\n",
      "363/363 [==============================] - 1s 2ms/step - loss: 0.3597 - mae: 0.4255 - val_loss: 0.3828 - val_mae: 0.4212\n",
      "Epoch 16/40\n",
      "363/363 [==============================] - 1s 1ms/step - loss: 0.3590 - mae: 0.4251 - val_loss: 0.3435 - val_mae: 0.4169\n",
      "Epoch 17/40\n",
      "363/363 [==============================] - 1s 1ms/step - loss: 0.3583 - mae: 0.4244 - val_loss: 0.3968 - val_mae: 0.4203\n",
      "Epoch 18/40\n",
      "363/363 [==============================] - 1s 2ms/step - loss: 0.3581 - mae: 0.4242 - val_loss: 0.3739 - val_mae: 0.4175\n",
      "Epoch 19/40\n",
      "363/363 [==============================] - 1s 2ms/step - loss: 0.3571 - mae: 0.4233 - val_loss: 0.3637 - val_mae: 0.4171\n",
      "Epoch 20/40\n",
      "363/363 [==============================] - 1s 1ms/step - loss: 0.3565 - mae: 0.4229 - val_loss: 0.4170 - val_mae: 0.4211\n",
      "Epoch 21/40\n",
      "363/363 [==============================] - 1s 2ms/step - loss: 0.3560 - mae: 0.4224 - val_loss: 0.3742 - val_mae: 0.4196\n",
      "Epoch 22/40\n",
      "363/363 [==============================] - 1s 2ms/step - loss: 0.3552 - mae: 0.4224 - val_loss: 0.4305 - val_mae: 0.4226\n",
      "Epoch 23/40\n",
      "363/363 [==============================] - 1s 1ms/step - loss: 0.3548 - mae: 0.4223 - val_loss: 0.3366 - val_mae: 0.4109\n",
      "Epoch 24/40\n",
      "363/363 [==============================] - 0s 1ms/step - loss: 0.3540 - mae: 0.4209 - val_loss: 0.3770 - val_mae: 0.4161\n",
      "Epoch 25/40\n",
      "363/363 [==============================] - 0s 1ms/step - loss: 0.3534 - mae: 0.4209 - val_loss: 0.3935 - val_mae: 0.4174\n",
      "Epoch 26/40\n",
      "363/363 [==============================] - 0s 1ms/step - loss: 0.3531 - mae: 0.4205 - val_loss: 0.3895 - val_mae: 0.4164\n",
      "Epoch 27/40\n",
      "363/363 [==============================] - 1s 2ms/step - loss: 0.3528 - mae: 0.4203 - val_loss: 0.3366 - val_mae: 0.4111\n",
      "Epoch 28/40\n",
      "363/363 [==============================] - 0s 1ms/step - loss: 0.3520 - mae: 0.4194 - val_loss: 0.3801 - val_mae: 0.4171\n",
      "Epoch 29/40\n",
      "363/363 [==============================] - ETA: 0s - loss: 0.3527 - mae: 0.419 - 0s 1ms/step - loss: 0.3516 - mae: 0.4196 - val_loss: 0.3585 - val_mae: 0.4146\n",
      "Epoch 30/40\n",
      "363/363 [==============================] - 0s 1ms/step - loss: 0.3508 - mae: 0.4189 - val_loss: 0.3864 - val_mae: 0.4146\n",
      "Epoch 31/40\n",
      "363/363 [==============================] - 0s 1ms/step - loss: 0.3501 - mae: 0.4183 - val_loss: 0.3522 - val_mae: 0.4119\n",
      "Epoch 32/40\n",
      "363/363 [==============================] - 0s 1ms/step - loss: 0.3498 - mae: 0.4180 - val_loss: 0.3915 - val_mae: 0.4172\n",
      "Epoch 33/40\n",
      "363/363 [==============================] - 0s 1ms/step - loss: 0.3496 - mae: 0.4184 - val_loss: 0.3445 - val_mae: 0.4118\n",
      "Epoch 34/40\n",
      "363/363 [==============================] - 0s 1ms/step - loss: 0.3487 - mae: 0.4175 - val_loss: 0.3490 - val_mae: 0.4126\n",
      "Epoch 35/40\n",
      "363/363 [==============================] - 0s 1ms/step - loss: 0.3484 - mae: 0.4173 - val_loss: 0.3979 - val_mae: 0.4167\n",
      "Epoch 36/40\n",
      "363/363 [==============================] - 1s 2ms/step - loss: 0.3478 - mae: 0.4172 - val_loss: 0.3321 - val_mae: 0.4083\n",
      "Epoch 37/40\n",
      "363/363 [==============================] - 1s 2ms/step - loss: 0.3475 - mae: 0.4164 - val_loss: 0.3631 - val_mae: 0.4126\n",
      "Epoch 38/40\n",
      "363/363 [==============================] - 0s 1ms/step - loss: 0.3470 - mae: 0.4165 - val_loss: 0.3397 - val_mae: 0.4095\n",
      "Epoch 39/40\n",
      "363/363 [==============================] - 0s 1ms/step - loss: 0.3463 - mae: 0.4157 - val_loss: 0.3443 - val_mae: 0.4092\n",
      "Epoch 40/40\n",
      "363/363 [==============================] - 0s 1ms/step - loss: 0.3457 - mae: 0.4156 - val_loss: 0.3505 - val_mae: 0.4081\n"
     ]
    }
   ],
   "source": [
    "model_history = model.fit(x_train, y_train , epochs=40, validation_data=(x_valid, y_valid))"
   ]
  },
  {
   "cell_type": "code",
   "execution_count": 17,
   "id": "87a247a2",
   "metadata": {},
   "outputs": [
    {
     "name": "stdout",
     "output_type": "stream",
     "text": [
      "162/162 [==============================] - 0s 1ms/step - loss: 0.3453 - mae: 0.4138\n"
     ]
    }
   ],
   "source": [
    "mae_test = model.evaluate(x_test,y_test)"
   ]
  },
  {
   "cell_type": "code",
   "execution_count": 18,
   "id": "ab80cb32",
   "metadata": {},
   "outputs": [
    {
     "data": {
      "image/png": "[encoded data removed]",
      "text/plain": [
       "<Figure size 576x360 with 1 Axes>"
      ]
     },
     "metadata": {
      "needs_background": "light"
     },
     "output_type": "display_data"
    }
   ],
   "source": [
    "pd.DataFrame(model_history.history).plot(figsize=(8,5))\n",
    "plt.grid(True)\n",
    "plt.gca().set_ylim(0,1)\n",
    "plt.show()"
   ]
  },
  {
   "cell_type": "code",
   "execution_count": 19,
   "id": "808a1068",
   "metadata": {},
   "outputs": [],
   "source": [
    "x_new = x_test[:3]"
   ]
  },
  {
   "cell_type": "code",
   "execution_count": 20,
   "id": "e9cdb099",
   "metadata": {},
   "outputs": [
    {
     "name": "stdout",
     "output_type": "stream",
     "text": [
      "[[0.71027946]\n",
      " [1.6731737 ]\n",
      " [4.1621943 ]]\n",
      "[0.477   0.458   5.00001]\n"
     ]
    }
   ],
   "source": [
    "y_pred = model.predict(x_new)\n",
    "print(y_pred)\n",
    "print(y_test[:3])"
   ]
  },
  {
   "cell_type": "code",
   "execution_count": null,
   "id": "f65913e3",
   "metadata": {},
   "outputs": [],
   "source": []
  }
 ],
 "metadata": {
  "kernelspec": {
   "display_name": "Python 3",
   "language": "python",
   "name": "python3"
  },
  "language_info": {
   "codemirror_mode": {
    "name": "ipython",
    "version": 3
   },
   "file_extension": ".py",
   "mimetype": "text/x-python",
   "name": "python",
   "nbconvert_exporter": "python",
   "pygments_lexer": "ipython3",
   "version": "3.8.8"
  }
 },
 "nbformat": 4,
 "nbformat_minor": 5
}
